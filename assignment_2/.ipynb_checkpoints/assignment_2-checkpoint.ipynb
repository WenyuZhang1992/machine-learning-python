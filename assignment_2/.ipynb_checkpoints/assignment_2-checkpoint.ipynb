{
 "cells": [
  {
   "cell_type": "markdown",
   "metadata": {},
   "source": [
    "## Logistic Regression"
   ]
  },
  {
   "cell_type": "markdown",
   "metadata": {},
   "source": [
    "### Assignment 1.1: Visualizing the data"
   ]
  },
  {
   "cell_type": "code",
   "execution_count": 1,
   "metadata": {},
   "outputs": [
    {
     "name": "stdout",
     "output_type": "stream",
     "text": [
      "Dimentions of training samples: [100 , 2]\n",
      "(100,)\n"
     ]
    }
   ],
   "source": [
    "import math\n",
    "import scipy.optimize as op\n",
    "import matplotlib.pyplot as plt\n",
    "import numpy as np\n",
    "from pylab import scatter, show, legend, xlabel, ylabel, contour, title\n",
    "\n",
    "data = np.genfromtxt('ex2data1.txt', delimiter=',')\n",
    "X = data[:, :2]\n",
    "y = data[:, 2]\n",
    "print(\"Dimentions of training samples: [%d\" % X.shape[0], \", %d]\" % X.shape[1])\n",
    "print(y.shape)"
   ]
  },
  {
   "cell_type": "code",
   "execution_count": 2,
   "metadata": {},
   "outputs": [
    {
     "data": {
      "image/png": "[encoded data removed]",
      "text/plain": [
       "<Figure size 432x288 with 1 Axes>"
      ]
     },
     "metadata": {},
     "output_type": "display_data"
    }
   ],
   "source": [
    "pos_index = np.where(y == 1)[0]\n",
    "neg_index = np.where(y == 0)[0]\n",
    "\n",
    "X_pos = X[pos_index, :]\n",
    "X_neg = X[neg_index, :]\n",
    "\n",
    "plt.style.use('seaborn-whitegrid')\n",
    "plt.xlabel(\"Exam 1 score\")\n",
    "plt.ylabel(\"Exam 2 score\")\n",
    "plt.title(\"Scatter plot of training data\")\n",
    "plt.plot(X_pos[:, 0], X_pos[:, 1], 'r+');\n",
    "plt.plot(X_neg[:, 0], X_neg[:, 1], \"yo\");"
   ]
  },
  {
   "cell_type": "markdown",
   "metadata": {},
   "source": [
    "### Assignment 1.2: Implementation"
   ]
  },
  {
   "cell_type": "code",
   "execution_count": 3,
   "metadata": {},
   "outputs": [
    {
     "name": "stdout",
     "output_type": "stream",
     "text": [
      "0.5\n",
      "[ 0.5  1. ]\n"
     ]
    }
   ],
   "source": [
    "### Implement sigmoid function\n",
    "def sigmoid(z):\n",
    "    return np.divide(1, 1 + np.exp(-z))\n",
    "\n",
    "### Test on sigmoid function\n",
    "print(sigmoid(0))\n",
    "print(sigmoid(np.array([0, 100000])))"
   ]
  },
  {
   "cell_type": "code",
   "execution_count": 4,
   "metadata": {},
   "outputs": [],
   "source": [
    "### Implement cost function and gradient\n",
    "def cost_function(theta, X, y):\n",
    "    m = y.shape[0]\n",
    "    J_theta = np.sum(np.multiply(-y, np.log(sigmoid(X.dot(theta)))) - np.multiply((1 - y), np.log(1 - sigmoid(X.dot(theta))))) / m\n",
    "    print(\"Test\", J_theta)\n",
    "    X_transpose = np.transpose(X)\n",
    "    grad = X_transpose.dot(sigmoid(X.dot(theta)) - y) / m\n",
    "    return J_theta, grad\n",
    "    "
   ]
  },
  {
   "cell_type": "code",
   "execution_count": 5,
   "metadata": {},
   "outputs": [],
   "source": [
    "### Test on cost function\n",
    "row, col = X.shape\n",
    "initial_theta = np.zeros((col + 1, 1))\n",
    "\n",
    "x0 = np.ones((row, 1))\n",
    "original_X = X\n",
    "X = np.append(x0, X, axis=1)\n",
    "y = y.reshape(row, 1)"
   ]
  },
  {
   "cell_type": "code",
   "execution_count": 6,
   "metadata": {},
   "outputs": [
    {
     "name": "stdout",
     "output_type": "stream",
     "text": [
      "Test 0.69314718056\n",
      "Cost at initial theta(zeros): 0.693147\n",
      "Expected gradients:\n",
      " [[ -0.1       ]\n",
      " [-12.00921659]\n",
      " [-11.26284221]]\n"
     ]
    }
   ],
   "source": [
    "cost, grad = cost_function(initial_theta, X, y)\n",
    "print(\"Cost at initial theta(zeros): %f\" % cost)\n",
    "print(\"Expected gradients:\\n\", grad)"
   ]
  },
  {
   "cell_type": "code",
   "execution_count": 7,
   "metadata": {},
   "outputs": [
    {
     "name": "stdout",
     "output_type": "stream",
     "text": [
      "Test 0.218330193827\n",
      "Cost at initial theta(zeros): 0.218330\n",
      "Expected gradients:\n",
      " [[ 0.04290299]\n",
      " [ 2.56623412]\n",
      " [ 2.64679737]]\n"
     ]
    }
   ],
   "source": [
    "test_theta = np.array([[-24], [0.2], [0.2]])\n",
    "cost, grad = cost_function(test_theta, X, y)\n",
    "print(\"Cost at initial theta(zeros): %f\" % cost)\n",
    "print(\"Expected gradients:\\n\", grad)"
   ]
  },
  {
   "cell_type": "markdown",
   "metadata": {},
   "source": [
    "### Assignment 1.3: Learning parameters using advanced function"
   ]
  },
  {
   "cell_type": "code",
   "execution_count": 8,
   "metadata": {},
   "outputs": [],
   "source": [
    "### Redefine cost function and gradient since functor parameter can only return one value\n",
    "def cost_function_modified(theta, X, y):\n",
    "    m, n = X.shape\n",
    "    theta = theta.reshape((n,1));\n",
    "    y = y.reshape((m,1));\n",
    "    J_theta = np.sum(np.multiply(-y, np.log(sigmoid(X.dot(theta)))) - np.multiply((1 - y), np.log(1 - sigmoid(X.dot(theta))))) / m\n",
    "    X_transpose = np.transpose(X)\n",
    "    grad = X_transpose.dot(sigmoid(X.dot(theta)) - y) / m\n",
    "    return J_theta\n",
    "\n",
    "def gradient(theta, X, y):\n",
    "    m, n = X.shape\n",
    "    theta = theta.reshape((n,1));\n",
    "    X_transpose = np.transpose(X)\n",
    "    grad = X_transpose.dot(sigmoid(X.dot(theta)) - y) / m\n",
    "    return grad.flatten()\n",
    "    \n",
    "\n",
    "def optimize_gradient(theta, X, y):\n",
    "    Result = op.minimize(fun = cost_function_modified, \n",
    "                         x0 = theta, \n",
    "                         args = (X, y),\n",
    "                         method = 'TNC',\n",
    "                         jac = gradient)\n",
    "    return Result.x"
   ]
  },
  {
   "cell_type": "code",
   "execution_count": 9,
   "metadata": {},
   "outputs": [
    {
     "name": "stdout",
     "output_type": "stream",
     "text": [
      "[-25.16131843   0.20623159   0.20147148]\n"
     ]
    }
   ],
   "source": [
    "optimal_theta = optimize_gradient(initial_theta, X, y)\n",
    "print(optimal_theta)"
   ]
  },
  {
   "cell_type": "markdown",
   "metadata": {},
   "source": [
    "### Assignment 1.4: Evaluating logistic regression"
   ]
  },
  {
   "cell_type": "code",
   "execution_count": 10,
   "metadata": {},
   "outputs": [],
   "source": [
    "### Predict on training data\n",
    "def predict(theta, X):\n",
    "    m, n = X.shape\n",
    "    p = sigmoid(X.dot(theta))\n",
    "    positive_index = np.where(p > 0.5)[0]\n",
    "    negative_index = np.where(p <= 0.5)[0]\n",
    "    p[positive_index] = 1\n",
    "    p[negative_index] = 0\n",
    "    return p"
   ]
  },
  {
   "cell_type": "code",
   "execution_count": 11,
   "metadata": {},
   "outputs": [
    {
     "name": "stdout",
     "output_type": "stream",
     "text": [
      "Expected value: 0.775 +/- 0.002, got value 0.776291\n",
      "Trainning Accuracy: 89.000000\n"
     ]
    }
   ],
   "source": [
    "test_X = np.array([[1, 45, 85]])\n",
    "prob = sigmoid(test_X.dot(optimal_theta))\n",
    "print(\"Expected value: 0.775 +/- 0.002, got value %f\" % prob)\n",
    "\n",
    "train_result = data[:, 2]\n",
    "predicted_values = predict(optimal_theta, X)\n",
    "print('Trainning Accuracy: %f' % ((train_result[np.where(predicted_values == train_result)].size / float(train_result.size)) * 100.0))"
   ]
  },
  {
   "cell_type": "markdown",
   "metadata": {},
   "source": [
    "## Regularized logistic regression"
   ]
  },
  {
   "cell_type": "markdown",
   "metadata": {},
   "source": [
    "### Assignment 2.1: Visualizing the data"
   ]
  },
  {
   "cell_type": "code",
   "execution_count": 12,
   "metadata": {},
   "outputs": [
    {
     "name": "stdout",
     "output_type": "stream",
     "text": [
      "Dimentions of regularized training samples: [118 , 2]\n"
     ]
    }
   ],
   "source": [
    "data_reg = np.genfromtxt('ex2data2.txt', delimiter=',')\n",
    "X_reg = data_reg[:, :2]\n",
    "y_reg = data_reg[:, 2]\n",
    "print(\"Dimentions of regularized training samples: [%d\" % X_reg.shape[0], \", %d]\" % X_reg.shape[1])"
   ]
  },
  {
   "cell_type": "code",
   "execution_count": 13,
   "metadata": {},
   "outputs": [
    {
     "data": {
      "image/png": "[encoded data removed]",
      "text/plain": [
       "<Figure size 432x288 with 1 Axes>"
      ]
     },
     "metadata": {},
     "output_type": "display_data"
    }
   ],
   "source": [
    "pos_index = np.where(y_reg == 1)[0]\n",
    "neg_index = np.where(y_reg == 0)[0]\n",
    "\n",
    "X_pos = X_reg[pos_index, :]\n",
    "X_neg = X_reg[neg_index, :]\n",
    "\n",
    "plt.style.use('seaborn-whitegrid')\n",
    "plt.xlabel(\"Microchip Test 1\")\n",
    "plt.ylabel(\"Microchip Test 2\")\n",
    "plt.title(\"Plot of training data\")\n",
    "plt.plot(X_pos[:, 0], X_pos[:, 1], 'r+');\n",
    "plt.plot(X_neg[:, 0], X_neg[:, 1], \"yo\");"
   ]
  },
  {
   "cell_type": "markdown",
   "metadata": {},
   "source": [
    "### Assignment 2.2: Feature mapping"
   ]
  },
  {
   "cell_type": "code",
   "execution_count": 14,
   "metadata": {},
   "outputs": [],
   "source": [
    "### Expand 2-Dimensional feature set to 28-Dimensional\n",
    "def mapFeature(x1, x2):\n",
    "    x1.shape = (x1.size, 1)\n",
    "    x2.shape = (x2.size, 1)\n",
    "    degree = 6\n",
    "    out = np.ones(shape=(x1[:, 0].size, 1))\n",
    "\n",
    "    m, n = out.shape\n",
    "\n",
    "    for i in range(1, degree + 1):\n",
    "        for j in range(i + 1):\n",
    "            r = (x1 ** (i - j)) * (x2 ** j)\n",
    "            out = np.append(out, r, axis=1)\n",
    "    return out"
   ]
  },
  {
   "cell_type": "code",
   "execution_count": 15,
   "metadata": {},
   "outputs": [],
   "source": [
    "### Expand features\n",
    "X_reg = mapFeature(X_reg[:, 0], X_reg[:, 1])\n",
    "\n",
    "### Initialize theta\n",
    "initial_theta = np.zeros((X_reg.shape[1], 1))\n",
    "test_theta = np.ones((X_reg.shape[1], 1))\n",
    "\n",
    "### Initialize lambda\n",
    "initial_lambda = 1"
   ]
  },
  {
   "cell_type": "markdown",
   "metadata": {},
   "source": [
    "### Assignment 2.3: Cost function and gradient"
   ]
  },
  {
   "cell_type": "code",
   "execution_count": 16,
   "metadata": {},
   "outputs": [],
   "source": [
    "def cost_function_reg(theta, X, y, initial_lambda):\n",
    "    m, n = X.shape\n",
    "    theta = theta.reshape((n,1));\n",
    "    y = y.reshape((m,1));\n",
    "    theta_reg = theta[1:, :]\n",
    "    X_nonreg = X[1:, :]\n",
    "    J_nonreg = np.sum(np.multiply(-y, np.log(sigmoid(X.dot(theta)))) - np.multiply((1 - y), np.log(1 - sigmoid(X.dot(theta))))) / m\n",
    "    J_reg = J_nonreg + initial_lambda / (2 * m) * np.sum(theta_reg ** 2)\n",
    "    return J_reg\n",
    "\n",
    "def gradient_reg(theta, X, y, initial_lambda):\n",
    "    m, n = X.shape\n",
    "    theta = theta.reshape((n,1));\n",
    "    y = y.reshape((m,1));\n",
    "    theta_reg = np.zeros(theta.shape)\n",
    "    print(theta_reg.shape)\n",
    "    X_transpose = np.transpose(X)\n",
    "    grad_nonreg = X_transpose.dot(sigmoid(X.dot(theta)) - y) / m\n",
    "    grad_reg = grad_nonreg + theta_reg * (initial_lambda / m)\n",
    "    return grad_reg.flatten()\n",
    "\n",
    "def optimize_gradient_reg(theta, X, y, initial_lambda):\n",
    "    Result = op.minimize(fun = cost_function_reg, \n",
    "                         x0 = theta, \n",
    "                         args = (X, y, initial_lambda),\n",
    "                         method = 'TNC',\n",
    "                         jac = gradient_reg)\n",
    "    return Result.x\n",
    "\n",
    "\n",
    "def cost_function_reg(theta, X, y, l):\n",
    "    '''Compute the cost and partial derivatives as grads\n",
    "    '''\n",
    "    m, n = X.shape\n",
    "    h = sigmoid(X.dot(theta))\n",
    "\n",
    "    thetaR = theta[1:, 0]\n",
    "\n",
    "    J = (1.0 / m) * ((-y.T.dot(log(h))) - ((1 - y.T).dot(log(1.0 - h)))) \\\n",
    "            + (l / (2.0 * m)) * (thetaR.T.dot(thetaR))\n",
    "\n",
    "    delta = h - y\n",
    "    sumdelta = delta.T.dot(X[:, 1])\n",
    "    grad1 = (1.0 / m) * sumdelta\n",
    "\n",
    "    XR = X[:, 1:X.shape[1]]\n",
    "    sumdelta = delta.T.dot(XR)\n",
    "\n",
    "    grad = (1.0 / m) * (sumdelta + l * thetaR)\n",
    "\n",
    "    out = zeros(shape=(grad.shape[0], grad.shape[1] + 1))\n",
    "\n",
    "    out[:, 0] = grad1\n",
    "    out[:, 1:] = grad\n",
    "\n",
    "    return J.flatten(), out.T.flatten()\n",
    "\n"
   ]
  },
  {
   "cell_type": "code",
   "execution_count": 17,
   "metadata": {},
   "outputs": [
    {
     "ename": "NameError",
     "evalue": "name 'm' is not defined",
     "output_type": "error",
     "traceback": [
      "\u001b[0;31m---------------------------------------------------------------------------\u001b[0m",
      "\u001b[0;31mNameError\u001b[0m                                 Traceback (most recent call last)",
      "\u001b[0;32m<ipython-input-17-6d15fc421006>\u001b[0m in \u001b[0;36m<module>\u001b[0;34m()\u001b[0m\n\u001b[1;32m      9\u001b[0m \u001b[0;31m# print(\"Gradient(First five elements): \\n\", gradient_test[0:5])\u001b[0m\u001b[0;34m\u001b[0m\u001b[0;34m\u001b[0m\u001b[0m\n\u001b[1;32m     10\u001b[0m \u001b[0;34m\u001b[0m\u001b[0m\n\u001b[0;32m---> 11\u001b[0;31m \u001b[0mcost\u001b[0m\u001b[0;34m,\u001b[0m \u001b[0mgradient\u001b[0m \u001b[0;34m=\u001b[0m \u001b[0mcost_function_reg\u001b[0m\u001b[0;34m(\u001b[0m\u001b[0minitial_theta\u001b[0m\u001b[0;34m,\u001b[0m \u001b[0mX_reg\u001b[0m\u001b[0;34m,\u001b[0m \u001b[0my_reg\u001b[0m\u001b[0;34m,\u001b[0m \u001b[0minitial_lambda\u001b[0m\u001b[0;34m)\u001b[0m\u001b[0;34m\u001b[0m\u001b[0m\n\u001b[0m\u001b[1;32m     12\u001b[0m \u001b[0mprint\u001b[0m\u001b[0;34m(\u001b[0m\u001b[0;34m\"J(theta) =[%f]\"\u001b[0m \u001b[0;34m%\u001b[0m \u001b[0mcost\u001b[0m\u001b[0;34m)\u001b[0m\u001b[0;34m\u001b[0m\u001b[0m\n\u001b[1;32m     13\u001b[0m \u001b[0mprint\u001b[0m\u001b[0;34m(\u001b[0m\u001b[0;34m\"Gradient(First five elements): \\n\"\u001b[0m\u001b[0;34m,\u001b[0m \u001b[0mgradient\u001b[0m\u001b[0;34m[\u001b[0m\u001b[0;36m0\u001b[0m\u001b[0;34m:\u001b[0m\u001b[0;36m5\u001b[0m\u001b[0;34m]\u001b[0m\u001b[0;34m)\u001b[0m\u001b[0;34m\u001b[0m\u001b[0m\n",
      "\u001b[0;32m<ipython-input-16-0c8d3d84cb2e>\u001b[0m in \u001b[0;36mcost_function_reg\u001b[0;34m(theta, X, y, l)\u001b[0m\n\u001b[1;32m     37\u001b[0m     \u001b[0mthetaR\u001b[0m \u001b[0;34m=\u001b[0m \u001b[0mtheta\u001b[0m\u001b[0;34m[\u001b[0m\u001b[0;36m1\u001b[0m\u001b[0;34m:\u001b[0m\u001b[0;34m,\u001b[0m \u001b[0;36m0\u001b[0m\u001b[0;34m]\u001b[0m\u001b[0;34m\u001b[0m\u001b[0m\n\u001b[1;32m     38\u001b[0m \u001b[0;34m\u001b[0m\u001b[0m\n\u001b[0;32m---> 39\u001b[0;31m     \u001b[0mJ\u001b[0m \u001b[0;34m=\u001b[0m \u001b[0;34m(\u001b[0m\u001b[0;36m1.0\u001b[0m \u001b[0;34m/\u001b[0m \u001b[0mm\u001b[0m\u001b[0;34m)\u001b[0m \u001b[0;34m*\u001b[0m \u001b[0;34m(\u001b[0m\u001b[0;34m(\u001b[0m\u001b[0;34m-\u001b[0m\u001b[0my\u001b[0m\u001b[0;34m.\u001b[0m\u001b[0mT\u001b[0m\u001b[0;34m.\u001b[0m\u001b[0mdot\u001b[0m\u001b[0;34m(\u001b[0m\u001b[0mlog\u001b[0m\u001b[0;34m(\u001b[0m\u001b[0mh\u001b[0m\u001b[0;34m)\u001b[0m\u001b[0;34m)\u001b[0m\u001b[0;34m)\u001b[0m \u001b[0;34m-\u001b[0m \u001b[0;34m(\u001b[0m\u001b[0;34m(\u001b[0m\u001b[0;36m1\u001b[0m \u001b[0;34m-\u001b[0m \u001b[0my\u001b[0m\u001b[0;34m.\u001b[0m\u001b[0mT\u001b[0m\u001b[0;34m)\u001b[0m\u001b[0;34m.\u001b[0m\u001b[0mdot\u001b[0m\u001b[0;34m(\u001b[0m\u001b[0mlog\u001b[0m\u001b[0;34m(\u001b[0m\u001b[0;36m1.0\u001b[0m \u001b[0;34m-\u001b[0m \u001b[0mh\u001b[0m\u001b[0;34m)\u001b[0m\u001b[0;34m)\u001b[0m\u001b[0;34m)\u001b[0m\u001b[0;34m)\u001b[0m             \u001b[0;34m+\u001b[0m \u001b[0;34m(\u001b[0m\u001b[0ml\u001b[0m \u001b[0;34m/\u001b[0m \u001b[0;34m(\u001b[0m\u001b[0;36m2.0\u001b[0m \u001b[0;34m*\u001b[0m \u001b[0mm\u001b[0m\u001b[0;34m)\u001b[0m\u001b[0;34m)\u001b[0m \u001b[0;34m*\u001b[0m \u001b[0;34m(\u001b[0m\u001b[0mthetaR\u001b[0m\u001b[0;34m.\u001b[0m\u001b[0mT\u001b[0m\u001b[0;34m.\u001b[0m\u001b[0mdot\u001b[0m\u001b[0;34m(\u001b[0m\u001b[0mthetaR\u001b[0m\u001b[0;34m)\u001b[0m\u001b[0;34m)\u001b[0m\u001b[0;34m\u001b[0m\u001b[0m\n\u001b[0m\u001b[1;32m     40\u001b[0m \u001b[0;34m\u001b[0m\u001b[0m\n\u001b[1;32m     41\u001b[0m     \u001b[0mdelta\u001b[0m \u001b[0;34m=\u001b[0m \u001b[0mh\u001b[0m \u001b[0;34m-\u001b[0m \u001b[0my\u001b[0m\u001b[0;34m\u001b[0m\u001b[0m\n",
      "\u001b[0;31mNameError\u001b[0m: name 'm' is not defined"
     ]
    }
   ],
   "source": [
    "# cost = cost_function_reg(initial_theta, X_reg, y_reg, initial_lambda)\n",
    "# gradient = gradient_reg(initial_theta, X_reg, y_reg, initial_lambda)\n",
    "# print(\"J(theta) =[%f]\" % cost)\n",
    "# print(\"Gradient(First five elements): \\n\", gradient[0:5])\n",
    "\n",
    "# cost_test = cost_function_reg(test_theta, X_reg, y_reg, 10.0)\n",
    "# gradient_test = gradient_reg(test_theta, X_reg, y_reg, 10.0)\n",
    "# print(\"\\nJ(theta) =[%f]\" % cost_test)\n",
    "# print(\"Gradient(First five elements): \\n\", gradient_test[0:5])\n",
    "\n",
    "cost, gradient = cost_function_reg(initial_theta, X_reg, y_reg, initial_lambda)\n",
    "print(\"J(theta) =[%f]\" % cost)\n",
    "print(\"Gradient(First five elements): \\n\", gradient[0:5])"
   ]
  },
  {
   "cell_type": "code",
   "execution_count": null,
   "metadata": {},
   "outputs": [],
   "source": [
    "optimal_theta_1 = optimize_gradient_reg(initial_theta, X_reg, y_reg, 1.0)\n",
    "optimal_theta_10 = optimize_gradient_reg(initial_theta, X_reg, y_reg, 10.0)\n",
    "optimal_theta_100 = optimize_gradient_reg(initial_theta, X_reg, y_reg, 100.0)"
   ]
  },
  {
   "cell_type": "markdown",
   "metadata": {},
   "source": [
    "### Assignment 2.4: Plotting the decision boundary"
   ]
  },
  {
   "cell_type": "code",
   "execution_count": null,
   "metadata": {},
   "outputs": [],
   "source": [
    "### Plot Boundary\n",
    "scatter(X_pos[:, 0], X_pos[:, 1], marker='x', c='r')\n",
    "scatter(X_neg[:, 0], X_neg[:, 1], marker='o', c='y')\n",
    "\n",
    "u = np.linspace(-1, 1.5, 50)\n",
    "v = np.linspace(-1, 1.5, 50)\n",
    "z = np.zeros(shape=(len(u), len(v)))\n",
    "for i in range(len(u)):\n",
    "    for j in range(len(v)):\n",
    "        z[i, j] = (mapFeature(np.array(u[i]), np.array(v[j])).dot(np.array(optimal_theta_1)))\n",
    "\n",
    "z = z.T\n",
    "contour(u, v, z)\n",
    "title('lambda = %f' % 1)\n",
    "xlabel('Microchip Test 1')\n",
    "ylabel('Microchip Test 2')\n",
    "legend(['y = 1', 'y = 0', 'Decision boundary'])\n",
    "show()"
   ]
  },
  {
   "cell_type": "code",
   "execution_count": null,
   "metadata": {},
   "outputs": [],
   "source": [
    "train_result = data_reg[:, 2]\n",
    "predicted_values = predict(optimal_theta_1, X_reg)\n",
    "print('Trainning Accuracy with Regularization: %f' % ((train_result[np.where(predicted_values == train_result)].size / float(train_result.size)) * 100.0))"
   ]
  }
 ],
 "metadata": {
  "kernelspec": {
   "display_name": "Python 3",
   "language": "python",
   "name": "python3"
  },
  "language_info": {
   "codemirror_mode": {
    "name": "ipython",
    "version": 3
   },
   "file_extension": ".py",
   "mimetype": "text/x-python",
   "name": "python",
   "nbconvert_exporter": "python",
   "pygments_lexer": "ipython3",
   "version": "3.6.6"
  }
 },
 "nbformat": 4,
 "nbformat_minor": 2
}
