{
 "cells": [
  {
   "cell_type": "markdown",
   "metadata": {},
   "source": [
    "Matrix and Vector: "
   ]
  },
  {
   "cell_type": "code",
   "execution_count": 30,
   "metadata": {},
   "outputs": [
    {
     "name": "stdout",
     "output_type": "stream",
     "text": [
      "3 1\n",
      "4 3\n",
      "0\n"
     ]
    }
   ],
   "source": [
    "import numpy as np\n",
    "\n",
    "v = [1, 2, 3]\n",
    "v = reshape(v, (3, 1))\n",
    "m, n = v.shape\n",
    "print(m, n)\n",
    "\n",
    "x = range(12)\n",
    "X = reshape(x, (4, 3))\n",
    "m, n = X.shape\n",
    "print(m, n)\n",
    "\n",
    "e1_1 = X[0][0]  # Zero-based\n",
    "print(e1_1)\n",
    "\n"
   ]
  },
  {
   "cell_type": "code",
   "execution_count": 34,
   "metadata": {},
   "outputs": [
    {
     "name": "stdout",
     "output_type": "stream",
     "text": [
      "[[2 5 8]\n",
      " [6 4 3]]\n",
      "[[ 0 -1  0]\n",
      " [ 4  2  1]]\n",
      "[[ 2  4  8]\n",
      " [10  6  4]]\n",
      "[[ 0.5  1.   2. ]\n",
      " [ 2.5  1.5  1. ]]\n",
      "[[3 4 6]\n",
      " [7 5 4]]\n"
     ]
    }
   ],
   "source": [
    "A = np.array([[1, 2, 4], [5, 3, 2]])\n",
    "B = np.array([[1, 3, 4], [1, 1, 1]])\n",
    "\n",
    "s = 2\n",
    "\n",
    "add_AB = A + B\n",
    "print(add_AB)\n",
    "\n",
    "sub_AB = A - B\n",
    "print(sub_AB)\n",
    "\n",
    "mult_As = A * s\n",
    "print(mult_As)\n",
    "\n",
    "div_As = A / s\n",
    "print(div_As)\n",
    "\n",
    "add_As = A + s\n",
    "print(add_As)"
   ]
  },
  {
   "cell_type": "code",
   "execution_count": 42,
   "metadata": {},
   "outputs": [
    {
     "name": "stdout",
     "output_type": "stream",
     "text": [
      "(2, 3)\n",
      "(3, 1)\n",
      "(2, 1)\n"
     ]
    }
   ],
   "source": [
    "print(A.shape)\n",
    "\n",
    "v = np.array([[1], [2], [3]])\n",
    "print(v.shape)\n",
    "\n",
    "mult_Av = A.dot(v)\n",
    "print(mult_Av.shape)"
   ]
  },
  {
   "cell_type": "code",
   "execution_count": 45,
   "metadata": {},
   "outputs": [
    {
     "name": "stdout",
     "output_type": "stream",
     "text": [
      "(2, 3)\n",
      "[[1 2 4]\n",
      " [5 3 2]]\n",
      "[[1 2 4]\n",
      " [5 3 2]]\n"
     ]
    }
   ],
   "source": [
    "print(A.shape)\n",
    "I = np.identity(3, integer)\n",
    "print(A)\n",
    "print(A.dot(I))"
   ]
  },
  {
   "cell_type": "code",
   "execution_count": null,
   "metadata": {},
   "outputs": [],
   "source": []
  }
 ],
 "metadata": {
  "kernelspec": {
   "display_name": "Python 3",
   "language": "python",
   "name": "python3"
  },
  "language_info": {
   "codemirror_mode": {
    "name": "ipython",
    "version": 3
   },
   "file_extension": ".py",
   "mimetype": "text/x-python",
   "name": "python",
   "nbconvert_exporter": "python",
   "pygments_lexer": "ipython3",
   "version": "3.6.6"
  }
 },
 "nbformat": 4,
 "nbformat_minor": 2
}
